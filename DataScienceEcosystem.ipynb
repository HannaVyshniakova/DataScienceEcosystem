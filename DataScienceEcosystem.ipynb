{
 "cells": [
  {
   "cell_type": "markdown",
   "id": "65f264f9-06e6-4854-81f4-2c05c181d076",
   "metadata": {},
   "source": [
    "# Data Science Tools and Ecosystem"
   ]
  },
  {
   "cell_type": "markdown",
   "id": "c5d8be71-cb2d-42b6-981a-0b9f50b13b66",
   "metadata": {},
   "source": [
    "# In this notebook, Data Science Tools and Ecosystem are summarized."
   ]
  },
  {
   "cell_type": "markdown",
   "id": "1a1c525e-b395-4cc7-b951-6dbbe5eae913",
   "metadata": {},
   "source": [
    "**Objectives:**\n",
    "\n",
    "- Understand the basics of Python programming.\n",
    "- Learn how to evaluate arithmetic expressions in Python.\n",
    "- Convert units of measurement (e.g., minutes to hours) using Python.\n",
    "- Identify popular languages used in Data Science.\n",
    "- Develop skills to create and format markdown cells in Jupyter Notebooks.\n"
   ]
  },
  {
   "cell_type": "markdown",
   "id": "4df97bab-bdee-4cea-b2bb-fced24bc3430",
   "metadata": {},
   "source": [
    "# Some of the popular languages that Data Scientists use are:\n",
    "1. Python\n",
    "2. Java\n",
    "3. C++\n",
    "4. C "
   ]
  },
  {
   "cell_type": "markdown",
   "id": "7eaedd29-a926-4997-8569-059ef35ecb35",
   "metadata": {},
   "source": [
    "# Some of the commonly used libraries used by Data Scientists include:\n",
    "1. NumPy \n",
    "2. Pandas \n",
    "3. Matplotlib \n",
    "4. Scikit-learn \n",
    "5. TensorFlow \n",
    "6. Keras"
   ]
  },
  {
   "cell_type": "markdown",
   "id": "089fe066-9e52-4c9d-b4e6-eb80b580641e",
   "metadata": {},
   "source": [
    "# Create a markdown cell with a table of Data Science tools\n",
    "| Data Science Tools | \n",
    "|---------------------------| \n",
    "| Jupyter Notebook | \n",
    "| RStudio | \n",
    "| Apache Zeppelin |\n"
   ]
  },
  {
   "cell_type": "markdown",
   "id": "60cc2597-7e88-411d-accb-d4a7fb555a0c",
   "metadata": {},
   "source": [
    "### Below are a few examples of evaluating arithmetic expressions in Python."
   ]
  },
  {
   "cell_type": "code",
   "execution_count": 42,
   "id": "409bbc49-d0e4-48c8-9fb0-8101e494f37e",
   "metadata": {},
   "outputs": [
    {
     "name": "stdout",
     "output_type": "stream",
     "text": [
      "17\n"
     ]
    }
   ],
   "source": [
    "# This is a simple arithmetic expression to multiply then add integers\n",
    "result = (3 * 4) + 5\n",
    "print(result)"
   ]
  },
  {
   "cell_type": "code",
   "execution_count": 44,
   "id": "41ff3a42-6eb8-492e-beb5-9489ff6fff13",
   "metadata": {},
   "outputs": [
    {
     "name": "stdout",
     "output_type": "stream",
     "text": [
      "3.3333333333333335\n"
     ]
    }
   ],
   "source": [
    "# This will convert 200 minutes to hours by dividing by 60\n",
    "hours = 200 / 60\n",
    "print(hours)"
   ]
  },
  {
   "cell_type": "markdown",
   "id": "a2f7b11b-f706-4aa2-b3f7-a21495627403",
   "metadata": {},
   "source": [
    "## Author\n",
    "\n",
    "Hanna Vyshniakova"
   ]
  },
  {
   "cell_type": "code",
   "execution_count": null,
   "id": "b6cba522-45f7-4a3e-bcd3-44dcf46ac1ae",
   "metadata": {},
   "outputs": [],
   "source": []
  }
 ],
 "metadata": {
  "kernelspec": {
   "display_name": "anaconda-ai-2024.04-py310",
   "language": "python",
   "name": "conda-env-anaconda-ai-2024.04-py310-py"
  },
  "language_info": {
   "codemirror_mode": {
    "name": "ipython",
    "version": 3
   },
   "file_extension": ".py",
   "mimetype": "text/x-python",
   "name": "python",
   "nbconvert_exporter": "python",
   "pygments_lexer": "ipython3",
   "version": "3.10.13"
  }
 },
 "nbformat": 4,
 "nbformat_minor": 5
}
